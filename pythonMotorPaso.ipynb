{
 "cells": [
  {
   "cell_type": "code",
   "execution_count": null,
   "metadata": {},
   "outputs": [],
   "source": [
    "import serial\n",
    "import time\n",
    "import matplotlib.pyplot as plt\n",
    "\n",
    "# Configura el puerto y la velocidad del Serial\n",
    "ser = serial.Serial('/dev/ttyUSB0', 115200)  # Ajusta el puerto según tu sistema\n",
    "time.sleep(2)  # Espera a que el puerto Serial esté listo\n",
    "\n",
    "# Envía el comando de inicio para el barrido\n",
    "ser.write(b's70\\n')  # Comienza con un barrido de 70 grados, puedes ajustar este valor\n",
    "\n",
    "# Variables para la gráfica en tiempo real\n",
    "angulos = []\n",
    "intensidades = []\n",
    "\n",
    "# Configura la gráfica en tiempo real\n",
    "plt.ion()\n",
    "fig, ax = plt.subplots()\n",
    "line, = ax.plot([], [], 'b-o')\n",
    "ax.set_xlim(0, 70)  # Límite inicial del eje X\n",
    "ax.set_ylim(0, 3.3)  # Límite del eje Y para el voltaje máximo de 3.3V\n",
    "ax.set_xlabel(\"Ángulo (grados)\")\n",
    "ax.set_ylabel(\"Intensidad (Voltaje)\")\n",
    "\n",
    "# Inicia la lectura y la gráfica en tiempo real\n",
    "try:\n",
    "    while True:\n",
    "        if ser.in_waiting > 0:\n",
    "            data = ser.readline().decode().strip()\n",
    "            angle, intensity = map(float, data.split())\n",
    "            \n",
    "            # Agrega los datos a las listas\n",
    "            angulos.append(angle)\n",
    "            intensidades.append(intensity)\n",
    "            \n",
    "            # Actualiza los datos de la gráfica\n",
    "            line.set_xdata(angulos)\n",
    "            line.set_ydata(intensidades)\n",
    "            \n",
    "            # Ajusta los límites si se supera el rango de ángulos\n",
    "            ax.set_xlim(0, max(angulos) + 5)\n",
    "            fig.canvas.draw()\n",
    "            fig.canvas.flush_events()\n",
    "\n",
    "except KeyboardInterrupt:\n",
    "    print(\"Deteniendo la adquisición de datos.\")\n",
    "finally:\n",
    "    ser.close()\n"
   ]
  }
 ],
 "metadata": {
  "language_info": {
   "name": "python"
  }
 },
 "nbformat": 4,
 "nbformat_minor": 2
}
